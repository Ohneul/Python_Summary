{
 "cells": [
  {
   "cell_type": "markdown",
   "metadata": {},
   "source": [
    "# Header (제목)\n",
    "\n",
    "# h1 (#)\n",
    "## h2 (##)\n",
    "### h3 (###)\n",
    "#### h4 (####)\n",
    "##### h5 (#####)\n",
    "###### h6 (######)"
   ]
  },
  {
   "cell_type": "markdown",
   "metadata": {},
   "source": [
    "# Emphasis (강조)\n",
    "\n",
    "- *이텔릭체* : * or _\n",
    "- **볼드체** : ** or __\n",
    "- **_동시사용_** : ** _ (순서 무관)\n",
    "- ~~취소선~~ : ~~\n",
    "- <u>밑줄</u> : < u >< /u >"
   ]
  },
  {
   "cell_type": "markdown",
   "metadata": {},
   "source": [
    "# List (목록)\n",
    "1. 순서가 필요한 목록\n",
    "1. 순서가 필요한 목록\n",
    "  - 순서가 필요하지 않은 목록(서브) \n",
    "  - 순서가 필요하지 않은 목록(서브) \n",
    "1. 순서가 필요한 목록\n",
    "  1. 순서가 필요한 목록(서브)\n",
    "  1. 순서가 필요한 목록(서브)\n",
    "1. 순서가 필요한 목록\n",
    "\n",
    "- 순서가 필요하지 않은 목록에 사용 가능한 기호\n",
    "  - 대쉬(hyphen)\n",
    "  * 별표(asterisks)\n",
    "  + 더하기(plus sign)"
   ]
  },
  {
   "cell_type": "markdown",
   "metadata": {},
   "source": [
    "# Links (링크)\n",
    "[naver](https://www.naver.com)\n",
    "\n",
    "[naver](https://www.naver.com \"설명 쓰는 곳\")\n",
    "\n",
    "[naver] [링크 참조]\n",
    "\n",
    "[링크 참조]: https://www.naver.com \"쓰는곳입니다.\"\n",
    "\n",
    "https://www.naver.com/\n",
    "\n",
    "글 속에 바로 [링크 참조]로 불러올 수 있음\n",
    "\n",
    "[상대적 참조](../source/Python/Practice)"
   ]
  },
  {
   "cell_type": "markdown",
   "metadata": {},
   "source": [
    "# Images (사진)\n",
    "- 링크와 다른점은 앞에 ( ! ) 를 붙인다는 점"
   ]
  },
  {
   "cell_type": "markdown",
   "metadata": {},
   "source": [
    "# Code Emphasis (코드 강조)\n",
    "- `부분 강조` : ` 를 사용\n",
    "- 블럭 강조 : ``` (사용 언어)를 사용\n",
    "```python\n",
    "s = \"Python\"\n",
    "print(s)\n",
    "```"
   ]
  },
  {
   "cell_type": "markdown",
   "metadata": {},
   "source": [
    "# Table (표)\n",
    "\n",
    "|제----목----셀1|제----목----셀2|제----목----셀3|\n",
    "|:--|:-:|--:|\n",
    "|왜|오른쪽|정렬만 되지|"
   ]
  },
  {
   "cell_type": "markdown",
   "metadata": {},
   "source": [
    "# BlockQuote (인용문)\n",
    "> 한번\n",
    ">> 두번\n",
    ">>> 세번<br>\n",
    ">>> 세번"
   ]
  },
  {
   "cell_type": "markdown",
   "metadata": {},
   "source": [
    "# Horizontal Line (수평선)\n",
    "---\n",
    "***\n",
    "___"
   ]
  }
 ],
 "metadata": {
  "kernelspec": {
   "display_name": "Python 3",
   "language": "python",
   "name": "python3"
  },
  "language_info": {
   "codemirror_mode": {
    "name": "ipython",
    "version": 3
   },
   "file_extension": ".py",
   "mimetype": "text/x-python",
   "name": "python",
   "nbconvert_exporter": "python",
   "pygments_lexer": "ipython3",
   "version": "3.6.4"
  }
 },
 "nbformat": 4,
 "nbformat_minor": 2
}
